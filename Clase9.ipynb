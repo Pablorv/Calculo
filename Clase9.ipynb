{
 "cells": [
  {
   "cell_type": "markdown",
   "metadata": {},
   "source": [
    "## Clase 9"
   ]
  },
  {
   "cell_type": "markdown",
   "metadata": {},
   "source": [
    "9) Sea $X= X_{1}\\cup X_{2}$, $f:X_{1}\\rightarrow Y$ y $g:X_{2}\\rightarrow Y $ funciones. Demuestra que la relación dada por\n",
    "\n",
    "\n",
    "\n",
    "$$\n",
    "h(x)= \\left\\{ \\begin{array}{lcc}\n",
    "             f(x) &   si  & x \\in X_{1} \\\\\n",
    "             \\\\ g(x) &  si &   x \\in X_{2} \\\\\n",
    "                          \\end{array}\n",
    "   \\right.\n",
    "$$\n",
    "\n",
    "es función de $X$ en $Y$ *si y sólo si* $g(x)=f(x)$ $\\forall$ $x\\in X_{1}\\cap X_{2}$."
   ]
  },
  {
   "cell_type": "markdown",
   "metadata": {},
   "source": [
    "Dem.\n",
    "\n",
    "$\\rightarrow$|\n",
    "\n",
    "Supongamos que $h(x)$ es función de $X$ en $Y$. Queremos demostrar que $g(x)=f(x) \\forall x\\in X_{1}\\cap X_{2}$.\n",
    "\n",
    "\n",
    "Sea $x\\in X_{1} \\cap X_{2}$. Como $x\\in X_{1}$ entonces $h(x)= f(x)$ y análogamente como $x \\in X_{2}$, entonces  $h(x)=g(x)$. Y por lo tanto $f(x)=h(x)=g(x)$, es decir $f(x)=g(x)$.\n",
    "\n",
    "\n"
   ]
  },
  {
   "cell_type": "markdown",
   "metadata": {},
   "source": [
    "$\\leftarrow$|\n",
    "\n",
    "\n",
    "Supongamos que $g(x)=f(x) \\forall x\\in X_{1}\\cap X_{2}$. Queremos demostrar que\n",
    "$h(x)$ es función de $X$ en $Y$.\n"
   ]
  },
  {
   "cell_type": "code",
   "execution_count": null,
   "metadata": {},
   "outputs": [],
   "source": []
  },
  {
   "cell_type": "code",
   "execution_count": null,
   "metadata": {},
   "outputs": [],
   "source": []
  },
  {
   "cell_type": "code",
   "execution_count": null,
   "metadata": {},
   "outputs": [],
   "source": []
  },
  {
   "cell_type": "code",
   "execution_count": null,
   "metadata": {},
   "outputs": [],
   "source": []
  },
  {
   "cell_type": "code",
   "execution_count": null,
   "metadata": {},
   "outputs": [],
   "source": []
  },
  {
   "cell_type": "code",
   "execution_count": null,
   "metadata": {},
   "outputs": [],
   "source": []
  },
  {
   "cell_type": "code",
   "execution_count": null,
   "metadata": {},
   "outputs": [],
   "source": []
  },
  {
   "cell_type": "markdown",
   "metadata": {},
   "source": [
    "Otro ejemplo: \n",
    "\n",
    "3) Sean $X$ y $Y$ conjuntos no vacíos. Demostrar que las relaciones $\\pi_{1}=\\{((x,y),x)|x\\in X, y\\in Y \\}$ y $\\pi_{2}=\\{((x,y),y)|x\\in X, y\\in Y \\}$ son funciones de $X\\times Y$ en $X$ y de $X\\times Y$ en $Y$. Estas funciones se llaman proyecciones de  $X\\times Y$  en $X$ y de  $X\\times Y$ en $Y$."
   ]
  },
  {
   "cell_type": "code",
   "execution_count": null,
   "metadata": {},
   "outputs": [],
   "source": []
  },
  {
   "cell_type": "code",
   "execution_count": null,
   "metadata": {},
   "outputs": [],
   "source": []
  },
  {
   "cell_type": "code",
   "execution_count": null,
   "metadata": {},
   "outputs": [],
   "source": []
  },
  {
   "cell_type": "code",
   "execution_count": null,
   "metadata": {},
   "outputs": [],
   "source": []
  },
  {
   "cell_type": "code",
   "execution_count": null,
   "metadata": {},
   "outputs": [],
   "source": []
  },
  {
   "cell_type": "code",
   "execution_count": null,
   "metadata": {},
   "outputs": [],
   "source": []
  },
  {
   "cell_type": "code",
   "execution_count": null,
   "metadata": {},
   "outputs": [],
   "source": []
  },
  {
   "cell_type": "markdown",
   "metadata": {},
   "source": [
    "Dado que las funciones también son relaciones, todas las definiciones que hemos estudiado de ellas, son válidas. Es decir, el dominio, contradominio (o imagen), así como la composición de relaciones, la cual tendrá una manera más directa de calcularse. \n",
    "\n",
    "\n",
    "**Definición.** Sea $f$ una función de $X$ en $Y$, decimos que el\n",
    "\n",
    "**dominio** de $f$ es el conjunto $Dom(f) \\equiv \\{x\\in X| \\exists f(x)\\in Y \\}$, mientras que la\n",
    "\n",
    "**imagen** de $f$ es el conjunto $Im(f) \\equiv \\{y\\in Y| \\exists x\\in X \\quad \\text{tal que} \\quad f(x)=y \\}$.\n"
   ]
  },
  {
   "cell_type": "code",
   "execution_count": null,
   "metadata": {},
   "outputs": [],
   "source": []
  },
  {
   "cell_type": "markdown",
   "metadata": {},
   "source": [
    "**Definición.** Sean $f:X\\rightarrow Y$ y $g:Y\\rightarrow Z$ dos funciones. La **composición de f con g** es la función $g\\circ f:X\\rightarrow Z$ dada por $(g\\circ f)(x)=g(f(x))$ para cada $x\\in X$. \n",
    "\n",
    "Cabe aclarar tres cosas:\n",
    "\n",
    "\n",
    "\n",
    "Si $x\\in X$ entonces:\n",
    "\n",
    "\n",
    "1) $f(x) \\in Y$\n",
    "\n",
    "2) $g(y) \\in Z \\quad \\forall \\quad  y\\in Y$.\n",
    "\n",
    "3) Por tanto, $g(f(x))\\in Z$\n",
    "\n",
    "\n",
    "\n"
   ]
  },
  {
   "cell_type": "code",
   "execution_count": null,
   "metadata": {},
   "outputs": [],
   "source": []
  },
  {
   "cell_type": "markdown",
   "metadata": {},
   "source": [
    "**Ejemplos.** \n",
    "\n",
    "1) Sean $f:\\mathbb{N}\\rightarrow \\mathbb{N}$ y $g:\\mathbb{N} \\rightarrow \\mathbb{Z}$ funciones dadas por $f(x)=x+1$ y $g(x)=x-x^{2}$, respectivamente. Calculemos $g\\circ f$. \n",
    "\n",
    "\n",
    "2) Sean $X$ y $Y$ conjuntos no vacíos, tomemos $x_{0}\\in X$ y $y_{0}\\in Y$ elementos fijos. Sean las funciones $i_{1}:X\\rightarrow X\\times Y$ y $i_{2}:Y\\rightarrow X\\times Y$ dadas por \n",
    "\n",
    "\n",
    "$$i_{1}(x)=(x,y_{0})$$\n",
    "\n",
    "$$i_{2}(y)=(x_{0},y)$$\n",
    "\n",
    "\n",
    "Sean $\\pi_{1}$ y $\\pi_{2}$ las funciones del ejemplo anterior, entonces calculemos las composiciones \n",
    "\n",
    "$$\\pi_{1}\\circ i_{1}$$\n",
    "\n",
    "$$\\pi_{2}\\circ i_{2}$$\n",
    "\n",
    "$$\\pi_{1}\\circ i_{2}$$\n",
    "\n",
    "$$\\pi_{2}\\circ i_{1}$$\n",
    "\n",
    "\n",
    "¿Qué podemos concluir de ellas?\n",
    "\n",
    "\n"
   ]
  },
  {
   "cell_type": "markdown",
   "metadata": {},
   "source": [
    "\n",
    "3) Sea $f:\\mathbb{R}\\rightarrow\\mathbb{R}$ la función dada por $f(x)=|x|$. Esta función se llama el *valor absoluto de $x$* y está definida como\n",
    "\n",
    "\n",
    "$$\n",
    "|x|= \\left\\{ \\begin{array}{lcc}\n",
    "             x &   si  & x\\geq 0 \\\\\n",
    "             \\\\ -x &  si &   x<0 \\\\\n",
    "                          \\end{array}\n",
    "   \\right.\n",
    "$$\n",
    "\n",
    "\n"
   ]
  },
  {
   "cell_type": "markdown",
   "metadata": {},
   "source": [
    "## 5. Funciones con imagen real. "
   ]
  },
  {
   "cell_type": "markdown",
   "metadata": {},
   "source": [
    "### 5.1 Intervalos reales, conjuntos acotados, cotas superiores e inferiores y supremo e ínfimo."
   ]
  },
  {
   "cell_type": "markdown",
   "metadata": {},
   "source": [
    "A veces es común definir a una función en un dominio que es un subconjunto de los números reales, este subconjunto recibe el nombre de intervalo y existen distintos tipos:\n",
    "\n",
    "**Definición.** Sea $A\\subseteq \\mathbb{R}$, decimos que\n",
    "\n",
    "a) $A$ es un intervalo abierto de $\\mathbb{R}$, si dados $a,b$ números reales $a\\neq b$, que delimitan a $A$, se tiene que $a<x<b$. $A$ se denota como $A=(a,b)\\subseteq \\mathbb{R}$.\n",
    "\n",
    "\n",
    "b) $A$ es un intervalo cerrado de $\\mathbb{R}$, si dados $a,b$ números reales $a\\neq b$, que delimitan a $A$, se tiene que $a\\leq x \\leq b$. $A$ se denota como $A= [a,b]$.\n",
    "\n",
    "\n",
    "c)   $A$ es un intervalo semiabierto (semicerrado) por la izquierda (derecha) de $\\mathbb{R}$, si dados $a,b$ números reales $a\\neq b$, que delimitan a $A$, se tiene que $a< x \\leq b$. $A$ se denota como $A= (a,b]$.\n",
    "\n",
    "\n",
    "\n",
    "d) Del mismo modo  $A$ es un intervalo semiabierto (semicerrado) por la derecha (izquierda) de $\\mathbb{R}$, si dados $a,b$ números reales $a\\neq b$, que delimitan a $A$, se tiene que $a\\leq x < b$. $A$ se denota como $A= [a,b)$.\n",
    "\n",
    "\n",
    "\n"
   ]
  },
  {
   "cell_type": "markdown",
   "metadata": {},
   "source": [
    "Finalmente, enunciemos los axiomas válidos en los números reales. Sean $a,b$ y $c \\in \\mathbb{R}$.\n",
    "\n",
    "Suma\n",
    "\n",
    "\n",
    "(1) Conmutatividad: a+b=b+a\n",
    "\n",
    "(2) Asociatividad: a+(b+c)=(a+b)+c\n",
    "\n",
    "(3) Elemento neutro aditivo, llamado *cero*, $0$: a+0=a\n",
    "(4) Inverso aditivo, para cada $a\\in\\mathbb{R}$, se llama $-a$ y cumple que nos regresa al neutro aditivo: $a+(-a)=0$\n",
    "\n",
    "\n",
    "Producto\n",
    "\n",
    "\n",
    "(5) Conmutatividad: a*b=b*a\n",
    "\n",
    "(6) Asociatividad: a*(b*c)=(a*b)*c\n",
    "\n",
    "(7) Elemento neutro multiplicativo, llamado *uno*, $1$: a*1=a\n",
    "\n",
    "(8) Inverso multiplicativo, para cada $a\\in\\mathbb{R}-\\{0\\}$, se llama $1/a$ y cumple que nos regresa al neutro multiplicativo: $a*(1/a)=1$\n",
    "\n",
    "\n",
    "(9) Distribuitividad: a * (b+c) = a * b + a * c\n",
    "\n",
    "Orden \n",
    "\n",
    "(10) Tricotomía: Sean $a,b \\in \\mathbb{R}$, entonces sólo es cierta alguna de las siguientes:\n",
    "\n",
    "$a<b$ ó $a>b$ ó $a=b$\n",
    "\n",
    "\n",
    "(11) Transitividad: Si $a<b$ y $b<c$, entonces $a<c$.\n",
    "\n",
    "(12) Monotonía de la suma y el producto: Si $a<b$ entonces $a+c<b+c$. Así mismo $ac<bc$\n"
   ]
  },
  {
   "cell_type": "markdown",
   "metadata": {},
   "source": [
    "Es notorio que si $A$ es un intervalo no vacío de $\\mathbb{R}$, podemos encontrar un número real $M$ tal que\n",
    "\n",
    "$$x \\leq M  \\quad \\forall \\quad x\\in A$$,\n",
    "\n",
    "este número se llama **cota superior**.\n",
    "\n",
    "Análogamente, si podemos encontrar un número real $N$ tal que \n",
    "\n",
    "$$N \\leq x  \\quad \\forall \\quad x\\in A$$,\n",
    "\n",
    "este número se llama **cota inferior**.\n",
    "\n",
    "\n",
    "\n",
    "Sean $\\mathbb{S}=\\{M| M \\quad \\text{es cota superior de A}\\}$   y   $\\mathbb{F}=\\{N| N \\quad \\text{es cota inferior de A}\\}$ los conjuntos (infinitos) de cotas superiores e inferiores. \n",
    "\n",
    "**Definición.** Sea $s \\in \\mathbb{S}$ tal que $s\\leq s^{'}$ para toda $s^{'}\\in \\mathbb{S}$, decimos que $s$ es el **supremo** de $A$. Es decir, el supremo es la más pequeña de las cotas superiores.\n",
    "\n",
    "\n",
    "\n",
    "Análogamente, Sea $ i \\in \\mathbb{F}$ tal que $i\\leq i^{'}$ para toda $i^{'}\\in \\mathbb{F}$, decimos que $i$ es el **ínfimo** de $A$. Es decir, el ínfimo es la más grande de las cotas inferiores.\n"
   ]
  },
  {
   "cell_type": "markdown",
   "metadata": {},
   "source": [
    "Axioma de completez (o del supremo)\n",
    "\n",
    "(13)  Sea $A\\subseteq \\mathbb{R}$, no vacío y acotado superiormente (inferiormente), entonces $A$ tiene supremo (ínfimo) $s$ ($i$). "
   ]
  },
  {
   "cell_type": "code",
   "execution_count": null,
   "metadata": {},
   "outputs": [],
   "source": []
  },
  {
   "cell_type": "code",
   "execution_count": null,
   "metadata": {},
   "outputs": [],
   "source": []
  },
  {
   "cell_type": "code",
   "execution_count": null,
   "metadata": {},
   "outputs": [],
   "source": []
  },
  {
   "cell_type": "markdown",
   "metadata": {},
   "source": [
    "## 5.2. Sucesiones."
   ]
  },
  {
   "cell_type": "markdown",
   "metadata": {},
   "source": [
    "Un tipo particular de funciones son las que tienen como dominio a los números naturales y como contradominio a los reales. Este tipo de funciones se llaman **sucesiones** y nos servirán para definir el concepto fundamental del cálculo: **el límite**.\n",
    "\n",
    "\n",
    "Sea la función $a:\\mathbb{N}\\rightarrow \\mathbb{R}$ dada por $a_{n}$. Decimos que el conjunto dado por $\\{a_{n}\\}_{n=1}^{\\infty}$ es una *sucesión* de números reales.\n",
    "\n",
    "\n",
    "Algunos ejemplos de sucesiones son:\n",
    "\n",
    "\n",
    "1) $a_{n}= c$ con $c\\in \\mathbb{R}$,\n",
    "\n",
    "2) $a_{n}= n$ \n",
    "\n",
    "3) $a_{n}= \\frac{1}{n}$\n",
    "\n",
    "4) $a_{n}= (-1)^{n}$\n",
    "\n",
    "5) $a_{n}= 2^{n}$\n",
    "\n",
    "6) $a_{n}= \\left(1+\\frac{1}{n}\\right)^{n}$\n",
    "\n",
    "7) $a_{n}= e^{i\\pi n}$\n"
   ]
  },
  {
   "cell_type": "markdown",
   "metadata": {},
   "source": [
    "Ahora sí, hemos llegado a una de las definiciones más importantes en todo el cálculo moderno:"
   ]
  },
  {
   "cell_type": "markdown",
   "metadata": {},
   "source": [
    "**Definición.** Sea $a_{n}$ una sucesión real y $L\\in \\mathbb{R}$, decimos que *el límite de $a_{n}$ es $L$*\n",
    "\n",
    "$$\\lim_{n\\rightarrow \\infty} a_{n}=L,$$ \n",
    "\n",
    "si sucede que para toda $\\varepsilon>0$, existe un $n_{0}\\in\\mathbb{N}$ tal que si $n\\geq n_{0}$ entonces $|a_{n}-L|<\\varepsilon$."
   ]
  }
 ],
 "metadata": {
  "kernelspec": {
   "display_name": "Python 3",
   "language": "python",
   "name": "python3"
  },
  "language_info": {
   "codemirror_mode": {
    "name": "ipython",
    "version": 3
   },
   "file_extension": ".py",
   "mimetype": "text/x-python",
   "name": "python",
   "nbconvert_exporter": "python",
   "pygments_lexer": "ipython3",
   "version": "3.7.6"
  }
 },
 "nbformat": 4,
 "nbformat_minor": 4
}
