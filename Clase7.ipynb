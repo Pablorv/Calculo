{
 "cells": [
  {
   "cell_type": "markdown",
   "metadata": {},
   "source": [
    "### Clase 7"
   ]
  },
  {
   "cell_type": "markdown",
   "metadata": {},
   "source": [
    "\n",
    "\n",
    "2) Sean los conjuntos $X=\\{a,b,c,d,e \\}$, $Y=\\{1,3,5,7\\}$, $Z=\\{\\alpha,\\beta,\\gamma,\\delta,\\varepsilon\\}$ y las relaciones $R_{1}= \\{(a,1),(a,3),(d,7),(e,7)\\}$ y $R_{2}=\\{(5,\\alpha),(5,\\beta),(5,\\gamma)\\}$ de $X$ en $Y$ y de $Y$ en $Z$, respectivamente. Entonces la composición está dada por\n",
    "\n",
    "\n",
    "$$\n",
    "R_{2}\\circ R_{1}=\\{ \\}.\n",
    "$$\n",
    "\n",
    "Hacer un esquema de la composición.\n",
    "\n",
    "\n",
    "3) Sean $X$ un conjunto y $R_{1}$ la relación de $X$ en $\\mathcal{P}(X)$ con regla de correspondencia $R_{1}=\\{(x,y)|x\\in y \\}$\n",
    "y $R_{2}$ la relación de $\\mathcal{P}(X)$ en $\\mathcal{P}(\\mathcal{P}(X))$ dada por $R_{2}= \\{(z,w)|w=\\{z\\}\\}$.\n",
    "\n",
    "\n",
    "¿Cómo se escribe $R_{2}\\circ R_{1}$ como relación de $X$ en $Z$?.\n",
    "\n",
    "\n",
    "$$\n",
    "R_{2}\\circ R_{1}=\\{(x,z)| \\exists y \\in \\mathcal{P}(X) t.q. x\\in y, z=\\{y\\} \\}.\n",
    "$$\n",
    "\n",
    "*e.g* Considera $X=\\{1,2,3\\}$, entonces $\\mathcal{P}(X)= \\{\\{1\\},\\{2\\},\\{3\\},\\{1,2\\},\\{1,3\\},\\{2,3\\},\\{ 1,2,3\\} \\}$ y, como calculamos en el ejemplo **3** de la clase 5, en este caso\n",
    "\n",
    "$R_{1}= \\{(1,\\{1\\}),(1,\\{1,2\\}), (1,\\{1,3\\}), (1,\\{1,2,3\\}),$\n",
    "\n",
    "$(2,\\{2\\}),(2,\\{1,2\\}),(2,\\{2,3\\}),(2,\\{1,2,3\\}),$\n",
    "\n",
    "$(3,\\{3\\}),(3,\\{1,3\\}), (3,\\{2,3\\}),(3,\\{1,2,3\\})\\}.$\n",
    "\n",
    "\n",
    "Ahora calculemos $\\mathcal{P}(\\mathcal{P}(X))$ , es decir, el conjunto de todos los posibles subconjuntos de $\\mathcal{P}(X)$:\n",
    "\n",
    "$\\mathcal{P}(\\mathcal{P}(X))= \\{ \\text{hint: unitarios, binarios,terciarios,etc}   \\} $ \n",
    "\n",
    "\n",
    "¿cuál es la cardinalidad de $\\mathcal{P}(\\mathcal{P}(X))$?\n",
    "\n",
    "Según la fórmula que enunciamos en el ejemplo 2 de la clase 5, tenemos que si $n=\\#(X)$, entonces $\\mathcal{P}(X))=2^{n}$ por lo que...\n",
    "\n",
    "\n",
    "\n",
    "\n"
   ]
  },
  {
   "cell_type": "markdown",
   "metadata": {},
   "source": [
    "Ahora sí, veamos qué forma tendrá $R_{2}$:\n",
    "\n",
    "\n",
    "$R_{2}= \\{(\\{1\\},   ), (\\{2\\},    ), (\\{3\\},    ), (\\{1,2\\},    ),(\\{1,3\\},    ), (\\{2,3\\},    ), (\\{1,2,3\\},    ) \\}$\n",
    "\n",
    "\n",
    "\n",
    "Y finalmente,\n",
    "\n",
    "$R_{2}\\circ R_{1}= \\{ \\}$\n",
    "\n",
    "Hint: ¿de dónde a dónde va la composición?."
   ]
  },
  {
   "cell_type": "markdown",
   "metadata": {},
   "source": [
    "Un ejemplo más, $X=\\{a,b,c,d\\}$, $Y=\\{0,1\\}$ y $Z=\\{a,0,2\\}$. $R_{1}$ de X en Y, dada por $R_{1}=\\{(a,1),(b,1),(d,0)\\}$ y $R_{2}$ de Y en Z dada por, $R_{2}= \\{((1,0),(1,2)\\}$. Entonces,\n",
    "\n",
    "\n",
    "$R_{2}\\circ R_{1}=\\{ \\}$"
   ]
  },
  {
   "cell_type": "markdown",
   "metadata": {},
   "source": [
    "### 4.5 Funciones"
   ]
  },
  {
   "cell_type": "markdown",
   "metadata": {},
   "source": [
    "Finalmente hemos llegado al objeto de estudio del cálculo. Las funciones son un tipo particular de relación y serán la herramienta básica para estudiar a la naturaleza. Posteriormente, desarrollaremos herramientas muy importantes para su estudio como los límites. Cabe destacar que hasta ahora (por simplicidad) hemos trabajado con ejemplos de conjuntos de elementos cuyos elementos están \"separados\" (es decir, conjuntos discretos) y que además son finitos, pero una relación cualquiera puede estar dada entre conjuntos discretos o continuos (no existe una \"separación\" entre sus elementos) y finitos, o no (en principio los conjuntos finitos no son necesariamente numerables). "
   ]
  },
  {
   "cell_type": "markdown",
   "metadata": {},
   "source": [
    "**Definición.** Sean dos conjuntos $X$, $Y$. Una **función** de $X$ en $Y$ es una relación $f$ de $X$ en $Y$ que satisface las siguientes condiciones\n",
    "\n",
    "\n",
    "1) $Dom(f)=X$\n",
    "\n",
    "2) Si $(x,y_{1}),(x,y_{2}) \\in f$, entonces $y_{1}=y_{2}$.\n",
    "\n",
    "\n",
    "Consultar los diagramas del documento y verificar cuáles son funciones y cuáles no.\n",
    "\n",
    "\n",
    "Como conclusión de nuestras observaciones notamos lo siguiente: para que una relación sea una función es necesario que cada uno de los elementos del dominio este relacionado con uno *y sólo uno* en el contradominio. En base a esta observación, analicemos algunos ejemplos.\n",
    "\n",
    "\n"
   ]
  },
  {
   "cell_type": "markdown",
   "metadata": {},
   "source": [
    "**Ejemplos.**\n",
    "\n",
    "\n",
    "1) Sea $X$ un conjunto no vacío. Demostrar que la relación $Id_{X}=\\{(x,y)|x=y\\}$ es una función de $X$ en $X$. Esta función se llama la *identidad*. \n",
    "\n",
    "\n",
    "2) Sean $X$ y $Y$ conjuntos no vacíos y $c \\in Y$ un elemento fijo del conjunto $Y$. Demostrar que la relación  $f=\\{(x,y)|x=c\\}$ es una función. Esta función se llama la función *constante*.\n",
    "\n",
    "\n",
    "3) Sean $X$ y $Y$ conjuntos no vacíos. Demostrar que las relaciones $\\pi_{1}=\\{((x,y),x)|x\\in X, y\\in Y \\}$ y $\\pi_{2}=\\{((x,y),y)|x\\in X, y\\in Y \\}$ son funciones de $X\\times Y$ en $X$ y de $X\\times Y$ en $Y$. Estas funciones se llaman proyecciones de  $X\\times Y$  en $X$ y de  $X\\times Y$ en $Y$.\n",
    "\n",
    "En los siguientes ejemplos decir porqué las siguientes relaciones **no** son funciones.\n",
    "\n",
    "\n",
    "\n",
    "4) Sea $f:\\mathbb{N}\\rightarrow \\mathbb{Z}$ dada por $f(x)=\\frac{x}{2}-1$.\n",
    "\n",
    "\n",
    "5) Sea $g:\\mathbb{N}\\rightarrow \\mathbb{R}$ dada por $g(x)=\\frac{1}{x+1}$ para todo $x\\in \\mathbb{R}$.\n",
    "\n",
    "\n",
    "6) Sea $h:\\mathbb{Q}\\rightarrow \\mathbb{Z}$ dada por $h(q)=h(\\frac{a}{b})=a$, para todo $a,b \\in \\mathbb{Z}$ y $b\\neq 0$.\n",
    "\n",
    "7) Sea $i:\\mathbb{Z} \\rightarrow  \\mathbb{Z}$ dada por \n",
    "\n",
    "$$\n",
    "f(x)= \\left\\{ \\begin{array}{lcc}\n",
    "             -x^2 &   si  & x > -1 \\\\\n",
    "             \\\\ x &  si &   x \\leq 1 \\\\\n",
    "                          \\end{array}\n",
    "   \\right.\n",
    "$$\n",
    "\n",
    "8) Sea $j:\\mathbb{Z} \\rightarrow \\mathbb{Z}$ dada por\n",
    "\n",
    "\n",
    "$$\n",
    "f(x)= \\left\\{ \\begin{array}{lcc}\n",
    "             x+3 &   si  & x > 1 \\\\\n",
    "             \\\\ 2x &  si &   x \\leq 0 \\\\\n",
    "                          \\end{array}\n",
    "   \\right.\n",
    "$$\n",
    "\n",
    "\n",
    "9) Sea $X= X_{1}\\cup X_{2}$, $f:X_{1}\\rightarrow Y$ y $g:X_{2}\\rightarrow Y $ funciones. Demuestra que la relación dada por\n",
    "\n",
    "\n",
    "\n",
    "$$\n",
    "h(x)= \\left\\{ \\begin{array}{lcc}\n",
    "             f(x) &   si  & x \\in X_{1} \\\\\n",
    "             \\\\ g(x) &  si &   x \\in X_{2} \\\\\n",
    "                          \\end{array}\n",
    "   \\right.\n",
    "$$\n",
    "\n",
    "es función de $X$ en $Y$ *si y sólo si* $g(x)=f(x)$ $\\forall$ $x\\in X_{1}\\cap X_{2}$.\n"
   ]
  }
 ],
 "metadata": {
  "kernelspec": {
   "display_name": "Python 3",
   "language": "python",
   "name": "python3"
  },
  "language_info": {
   "codemirror_mode": {
    "name": "ipython",
    "version": 3
   },
   "file_extension": ".py",
   "mimetype": "text/x-python",
   "name": "python",
   "nbconvert_exporter": "python",
   "pygments_lexer": "ipython3",
   "version": "3.7.6"
  }
 },
 "nbformat": 4,
 "nbformat_minor": 4
}
