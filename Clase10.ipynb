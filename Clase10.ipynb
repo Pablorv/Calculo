{
 "cells": [
  {
   "cell_type": "markdown",
   "metadata": {},
   "source": [
    "### Ejemplos de supremos e ínfimos.\n",
    "\n",
    "\n",
    "${\\displaystyle \\sup\\{1,2,3\\}=3\\,}$\n",
    "\n",
    "${\\displaystyle \\inf\\{1,2,3\\}=1\\,}$\n",
    "\n",
    "\n",
    "\n",
    "${\\displaystyle \\sup\\{x\\in \\mathbb {R} |0<x<1\\}=\\sup\\{x\\in \\mathbb {R} |0\\leq x\\leq 1\\}=1\\,}$\n",
    "\n",
    "\n",
    "${\\displaystyle \\inf\\{x\\in \\mathbb {R} |0<x<1\\}=\\inf\\{x\\in \\mathbb {R} |0\\leq x\\leq 1\\}=0\\,}$\n",
    "\n",
    "\n",
    "${\\displaystyle \\sup\\{x\\in \\mathbb {Q^{+}} |x^{2}\\leq 2\\}={\\sqrt {2}}\\,}$\n",
    "\n",
    "\n",
    "${\\displaystyle \\inf\\{x\\in \\mathbb {Q^{+}} |x^{2}<2\\}=0\\,}$\n",
    "\n",
    "\n",
    "${\\displaystyle \\sup\\{(-1)^{n}-{\\frac {1}{n}}|n\\in \\mathbb {N} \\}=1\\,}$\n",
    "\n",
    "\n",
    "${\\displaystyle \\inf\\{{\\frac {1}{n}}|n\\in \\mathbb {N} \\}=0\\,}$\n",
    "\n"
   ]
  },
  {
   "cell_type": "markdown",
   "metadata": {},
   "source": [
    "### Ejemplos de sucesiones\n",
    "\n",
    "\n",
    "1) $a_{n}= c$ con $c\\in \\mathbb{R}$,\n",
    "\n",
    "2) $a_{n}= n$ \n",
    "\n",
    "3) $a_{n}= \\frac{1}{n}$\n",
    "\n",
    "4) $a_{n}= (-1)^{n}$\n",
    "\n",
    "5) $a_{n}= 2^{n}$\n",
    "\n",
    "6) $a_{n}= \\left(1+\\frac{1}{n}\\right)^{n}$\n",
    "\n",
    "7) $a_{n}= e^{i\\pi n}$\n",
    "\n",
    "8) Sucesión de Fibonnaci y número de oro $\\phi$: $a_{0}=0$, $a_{0}=1$ y $a_{n}=a_{n-1}+a_{n-2}$"
   ]
  },
  {
   "cell_type": "code",
   "execution_count": null,
   "metadata": {},
   "outputs": [],
   "source": []
  },
  {
   "cell_type": "markdown",
   "metadata": {},
   "source": [
    "**Definición.** Decimos que una sucesión es creciente si \n",
    "$$\n",
    "a_{n}\\leq a_{n+1}\n",
    "$$\n",
    "\n",
    "y estrictamente creciente si\n",
    "\n",
    "$$\n",
    "a_{n}< a_{n+1}\n",
    "$$\n",
    "\n",
    "Así mismo, decimos que una sucesión es decreciente si\n",
    "\n",
    "\n",
    "$$\n",
    "a_{n}\\geq a_{n+1}\n",
    "$$\n",
    "\n",
    "y estrictamente decreciente si\n",
    "\n",
    "$$\n",
    "a_{n}> a_{n+1}\n",
    "$$\n",
    "\n",
    "Decimos que una sucesión es monótona si es creciente o decreciente y estrictamente monónota si es estrictamente creciente o decreciente.\n",
    "\n",
    "\n",
    "\n",
    "\n"
   ]
  },
  {
   "cell_type": "code",
   "execution_count": null,
   "metadata": {},
   "outputs": [],
   "source": []
  },
  {
   "cell_type": "markdown",
   "metadata": {},
   "source": [
    "**Proposición.** Sea $A\\subseteq \\mathbb{R}$ no vacío. Si $s=sup(A)$, entonces existe una sucesión creciente de elementos de $A$, $\\{a_{n}\\}$, tal que $\\lim_{n\\rightarrow \\infty} a_{n}=s$. Si $s\\notin A$, entonces la sucesión puede ser estrictamente creciente. \n",
    "\n",
    "\n",
    "**Dem.**"
   ]
  },
  {
   "cell_type": "markdown",
   "metadata": {},
   "source": [
    "Una vez que hemos terminado de revisar (muy rápidamente) a las sucesiones, sigamos con el estudio de las funciones.\n",
    "Ahora, aprendamos a hacer la *gráfica* de una función.\n"
   ]
  },
  {
   "cell_type": "markdown",
   "metadata": {},
   "source": [
    "**Definición.** Sean $A,B\\subseteq \\mathbb{R}$ y $f:A\\rightarrow B$ una función. La *gráfica* de una función es el conjunto\n",
    "$Graf(f)=\\{(x,f(x))|x\\in A \\quad \\text{y} \\quad f(x)\\in B \\} \\subseteq A\\times B$.\n",
    "\n",
    "\n",
    "    "
   ]
  },
  {
   "cell_type": "markdown",
   "metadata": {},
   "source": [
    "Para ahondar más en el tema, primero definamos el *espacio* en el que vamos a trabajar en este curso de cálculo.\n",
    "\n",
    "El lugar geométrico en el cual vamos a trabajar está dado por\n",
    "\n",
    "$$ \\mathbb{R}^{2}\\equiv \\{(x,y)|x,y \\in \\mathbb{R} \\}. $$\n",
    "\n",
    "\n",
    "Es decir, para cualquier función de la forma $f:\\mathbb{R}\\rightarrow \\mathbb{R}$, $Graf(f)\\subseteq \\mathbb{R}^{2}$. $\\mathbb{R}^{2}$ es un *plano*, el cual está formado por dos líneas rectas, una vertical, llamada el eje de las ordenadas y una horizontal, llamada el eje de las abcisas. \n",
    "\n",
    "Visualizar geométricamente a la función $f$ es posible al dibujar con un punto cada elemento de $Graf(f)$.\n",
    "\n",
    "**Ejemplos.**\n",
    "\n",
    "\n",
    "1) $f:\\mathbb{R}:\\rightarrow \\mathbb{R}$, $f(x)=cx$, con $c\\in \\mathbb{R}$.\n",
    "\n",
    "2) $f:\\mathbb{R}:\\rightarrow \\mathbb{R}$, $f(x)=x^n$, con $n\\in \\mathbb{N}$.\n",
    "\n",
    "3) $f:\\mathbb{R}:\\rightarrow \\mathbb{R}$, $f(x)=sin(nx)$, con $n\\in \\mathbb{Z}$.\n",
    "\n",
    "4) $f:\\mathbb{R}:\\rightarrow \\mathbb{R}$, $f(x)=sin(x+a)$, con $a\\in \\mathbb{R}$.\n",
    "\n",
    "5) $f:\\mathbb{R}:\\rightarrow \\mathbb{R}$, $f(x)=e^{ax}$, con $a\\in \\mathbb{R}$.\n",
    "\n",
    "6) $f:\\mathbb{R}:\\rightarrow \\mathbb{R}$, $f(x)=ln(ax)$, con $a\\in \\mathbb{R}$."
   ]
  },
  {
   "cell_type": "markdown",
   "metadata": {},
   "source": [
    "Algunos tipos interesantes de funciones:\n",
    "\n",
    "Funciones pares. Son funciones tales que se cumple para cualquier $x\\in Dom(f)$ que, $f(-x)=f(x)$.\n",
    "\n",
    "Por ejemplo:\n",
    "\n",
    "\n",
    "Funciones impares: Son funciones tales que se cumple para cualquier $x\\in Dom(f)$ que, $f(-x)=-f(x)$\n",
    "\n",
    "Por ejemplo:\n",
    "\n",
    "\n",
    "Funciones periódicas: Son funciones tales que para cualquier $x\\in Dom(f)$ se tiene que para algún $L \\in \\mathbb{R}$, se cumple que $f(x+L)=f(x)$. $L$ se llama el *periodo de la función*.\n",
    "\n",
    "Por ejemplo:\n"
   ]
  }
 ],
 "metadata": {
  "kernelspec": {
   "display_name": "Python 3",
   "language": "python",
   "name": "python3"
  },
  "language_info": {
   "codemirror_mode": {
    "name": "ipython",
    "version": 3
   },
   "file_extension": ".py",
   "mimetype": "text/x-python",
   "name": "python",
   "nbconvert_exporter": "python",
   "pygments_lexer": "ipython3",
   "version": "3.7.6"
  }
 },
 "nbformat": 4,
 "nbformat_minor": 4
}
