{
 "cells": [
  {
   "cell_type": "markdown",
   "metadata": {},
   "source": [
    "## Clase 4\n",
    "\n"
   ]
  },
  {
   "cell_type": "markdown",
   "metadata": {},
   "source": [
    "Demostraciones de conjuntos. \n",
    "\n",
    "Debemos recordar lo siguiente:\n",
    "\n",
    "\n",
    "+ 1) Dos conjuntos son iguales si y sólo si tienen los mismos elementos. Es decir si se continen mutuamente\n",
    "\n",
    "+ 2) Para demostrar la igualdad de dos conjuntos $A=B$, debemos hacerlo mediante doble contención\n",
    "\n",
    "+ 3) Tomamos un elemento de uno de los conjuntos $A$ y mediante propiedades y definiciones mostramos que $x\\in B$\n",
    "\n",
    "+ 4) Finalmente haces la contención faltante"
   ]
  },
  {
   "cell_type": "markdown",
   "metadata": {},
   "source": [
    "Sean $A$ y $B$ conjuntos no vacíos, subconjuntos del universal $\\Omega$\n",
    "\n",
    "\n",
    "\n",
    "i) $(A\\cup B)^{c}= A^{c}\\cap B^{c}$. *Ley de De Morgan*.\n",
    "\n",
    "\n",
    "\n",
    "Paso 0.\n",
    "\n",
    "Recordando las definiciones de complemento y unión:\n",
    "\n",
    "\n",
    "**Complemento**\n",
    "\n",
    "El complemento de un conjunto $C$, $C^{c}=\\Omega- C$, cualquiera es el *conjunto de todos los elementos que están en el conjunto universal y no están en C*.\n",
    "\n",
    "\n",
    "**Unión**\n",
    "\n",
    "La unión de una cantidad finita de conjuntos $A_{1},A_{2},...,A_{n}$ está dada por $A_{1}\\cup A_{2} \\cup ... \\cup A_{n}$. Y está conformada por los elementos $x$ tales que existe un $i$ tal que $x\\in A_{i}$. \n",
    "\n",
    "\n",
    "En particular, teniendo sólo dos conjuntos $A$ y $B$, la unión de los dos, $A \\cup B$, es el *conjunto de todos los elementos $x$ que están en A o en B*.\n",
    "\n",
    "\n",
    "\n",
    "**Intersección**\n",
    "\n",
    "\n",
    "La intersección de una cantidad finita de conjuntos $A_{1},A_{2},...,A_{n}$ está dada por $A_{1}\\cap A_{2} \\cap ... \\cap A_{n}$. Y está conformada por los elementos $x$ tales que para cualquier $i$, $x\\in A_{i}$.\n",
    "\n",
    "\n",
    "En particular, teniendo sólo dos conjuntos $A$ y $B$, la intersección de los dos, $A\\cap B$, es el *conjuntos de todos los elementos $x$ que están en A y en B*.\n",
    "\n",
    "\n",
    "\n",
    "\n",
    "Nota:\n",
    "\n",
    "Qué sucede cuando $A \\cap B \\subset A \\cup B$ y además que $A\\cup B \\subset A\\cap B$?. En este caso particular, podemos concluir que $A=B$.\n",
    "\n"
   ]
  },
  {
   "cell_type": "markdown",
   "metadata": {},
   "source": [
    "Paso 2.\n",
    "Vamos a demostrar, por doble contención que  $(A\\cup B)^{c}= A^{c}\\cap B^{c}$.\n",
    "\n",
    "Para eso, comenzamos la demostración con una contención.\n"
   ]
  },
  {
   "cell_type": "markdown",
   "metadata": {},
   "source": [
    "Paso 3.\n",
    "\n",
    "\n",
    "$\\subset|$ Sea $x \\in (A \\cup B)^{c}$.\n",
    "\n",
    "Esto significa que $x \\in \\Omega$ y $x \\notin (A \\cup B)$. \n",
    "\n",
    "\n",
    "Como $x$ no está en la unión de $A$ y $B$, significa que $x\\notin A$ y $x \\notin B$.\n",
    "\n",
    "\n",
    "Finalmente, notamos que $x\\in \\Omega$ y $x\\notin A$ y $x\\in \\Omega$ y $x \\notin B$.\n",
    "\n",
    "Es decir, $x\\in A^{c}$ y $x\\in B^{c}$, por lo tanto $x\\in A^{c} \\cap B^{c}$.\n",
    "\n",
    "\n",
    "\n",
    "\n",
    "$\\supset|$ Sea $x\\in A^{c} \\cap B^{c}$. \n",
    "\n",
    "Esto signica que $x\\in A^{c}$ y $x\\in B^{c}$, es decir que $x\\in \\Omega $ y $x\\notin A$  además,  $x\\in \\Omega $ y $x\\notin B$.\n",
    "\n",
    "Como $x\\notin A$ y $x \\notin B$, $x$ cumple con el requisito de NO estar en la unión, es decir $x\\notin (A\\cup B)$.\n",
    "\n",
    "Finalmente, $x\\in (A \\cup B)^{c}$.\n"
   ]
  },
  {
   "cell_type": "markdown",
   "metadata": {},
   "source": [
    "Demostrar que\n",
    "\n",
    "\n",
    "$A\\cup \\phi = A$."
   ]
  },
  {
   "cell_type": "markdown",
   "metadata": {},
   "source": [
    "i) $(A\\cap B)^{c}= A^{c}\\cup B^{c}$. *Ley de De Morgan*\n",
    "\n",
    "\n",
    "\n"
   ]
  },
  {
   "cell_type": "markdown",
   "metadata": {},
   "source": [
    "Paso 1 y 2. Vamos a demostrar la igualdad de los conjuntos por una doble contención."
   ]
  },
  {
   "cell_type": "markdown",
   "metadata": {},
   "source": [
    "Paso 3. \n",
    "\n",
    "$\\subset$| Sea $x \\in (A\\cap B)^{c}$.\n",
    "\n",
    "Entonces $x\\in \\Omega$ y $x\\notin (A\\cap B)$.\n",
    "\n",
    "\n",
    "Esto significa que $x\\notin A$ o $x\\notin B$, es decir $x\\in A^{c}$ o $x\\in B^{c}$ y por lo tanto $x\\in A^{c}\\cup B^{c}$.\n",
    "\n",
    "*Ejemplo*\n",
    "\n",
    "$$\\Omega=\\{1,2,3,4,5,6,7,8,9,10,11,12,13,14,15,16,17,18,19,20\\}$$\n",
    "\n",
    "$$A=\\{3,5\\}$$\n",
    "\n",
    "$$B=\\{3,5\\} $$\n",
    "\n",
    "$$A\\cap B= \\{ 3,5\\}$$"
   ]
  },
  {
   "cell_type": "markdown",
   "metadata": {},
   "source": [
    "$\\supset$|  Sea $x\\in A^{c}\\cup B^{c}$.\n",
    "\n",
    "\n",
    "Entonces $x\\in A^{c} $ o $x \\in B^{c}$.\n",
    "\n",
    "Esto significa que ($x \\in \\Omega$ y $x\\notin A$) o  ($x \\in \\Omega$ y $x\\notin B$ ).\n",
    "\n",
    "Como $x$ no está en $A$ o $B$, entonces $x\\notin (A\\cap B)$, es decir $x\\in (A\\cap B)^{c}$ ."
   ]
  }
 ],
 "metadata": {
  "kernelspec": {
   "display_name": "Python 3",
   "language": "python",
   "name": "python3"
  },
  "language_info": {
   "codemirror_mode": {
    "name": "ipython",
    "version": 3
   },
   "file_extension": ".py",
   "mimetype": "text/x-python",
   "name": "python",
   "nbconvert_exporter": "python",
   "pygments_lexer": "ipython3",
   "version": "3.7.6"
  }
 },
 "nbformat": 4,
 "nbformat_minor": 4
}
